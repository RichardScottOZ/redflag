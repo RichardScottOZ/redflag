{
 "cells": [
  {
   "cell_type": "markdown",
   "metadata": {},
   "source": [
    "# Using `redflag`\n",
    "\n",
    "It's early days, but there are a few things you can do:\n",
    "\n",
    "- Outlier detection\n",
    "- Clipping detection\n",
    "- Imbalance metrics (for labels and any other categorical variables)\n",
    "- Distribution shape"
   ]
  },
  {
   "cell_type": "code",
   "execution_count": 1,
   "metadata": {},
   "outputs": [
    {
     "data": {
      "text/plain": [
       "'0.1.8.dev10+g3aa4b3b.d20220430'"
      ]
     },
     "execution_count": 1,
     "metadata": {},
     "output_type": "execute_result"
    }
   ],
   "source": [
    "import redflag as rf\n",
    "\n",
    "rf.__version__"
   ]
  },
  {
   "cell_type": "markdown",
   "metadata": {},
   "source": [
    "## Load some data"
   ]
  },
  {
   "cell_type": "code",
   "execution_count": 2,
   "metadata": {},
   "outputs": [
    {
     "data": {
      "text/html": [
       "<div>\n",
       "<style scoped>\n",
       "    .dataframe tbody tr th:only-of-type {\n",
       "        vertical-align: middle;\n",
       "    }\n",
       "\n",
       "    .dataframe tbody tr th {\n",
       "        vertical-align: top;\n",
       "    }\n",
       "\n",
       "    .dataframe thead th {\n",
       "        text-align: right;\n",
       "    }\n",
       "</style>\n",
       "<table border=\"1\" class=\"dataframe\">\n",
       "  <thead>\n",
       "    <tr style=\"text-align: right;\">\n",
       "      <th></th>\n",
       "      <th>Well Name</th>\n",
       "      <th>Depth</th>\n",
       "      <th>Formation</th>\n",
       "      <th>RelPos</th>\n",
       "      <th>Marine</th>\n",
       "      <th>GR</th>\n",
       "      <th>ILD</th>\n",
       "      <th>DeltaPHI</th>\n",
       "      <th>PHIND</th>\n",
       "      <th>PE</th>\n",
       "      <th>Facies</th>\n",
       "      <th>LATITUDE</th>\n",
       "      <th>LONGITUDE</th>\n",
       "      <th>ILD_log10</th>\n",
       "      <th>Lithology</th>\n",
       "      <th>RHOB</th>\n",
       "      <th>Mineralogy</th>\n",
       "      <th>Siliciclastic</th>\n",
       "    </tr>\n",
       "  </thead>\n",
       "  <tbody>\n",
       "    <tr>\n",
       "      <th>0</th>\n",
       "      <td>SHRIMPLIN</td>\n",
       "      <td>851.3064</td>\n",
       "      <td>A1 SH</td>\n",
       "      <td>1.000</td>\n",
       "      <td>1</td>\n",
       "      <td>77.45</td>\n",
       "      <td>4.613176</td>\n",
       "      <td>9.9</td>\n",
       "      <td>11.915</td>\n",
       "      <td>4.6</td>\n",
       "      <td>3.0</td>\n",
       "      <td>37.978076</td>\n",
       "      <td>-100.987305</td>\n",
       "      <td>0.664</td>\n",
       "      <td>siltstone</td>\n",
       "      <td>2393.499945</td>\n",
       "      <td>siliciclastic</td>\n",
       "      <td>True</td>\n",
       "    </tr>\n",
       "    <tr>\n",
       "      <th>1</th>\n",
       "      <td>SHRIMPLIN</td>\n",
       "      <td>851.4588</td>\n",
       "      <td>A1 SH</td>\n",
       "      <td>0.979</td>\n",
       "      <td>1</td>\n",
       "      <td>78.26</td>\n",
       "      <td>4.581419</td>\n",
       "      <td>14.2</td>\n",
       "      <td>12.565</td>\n",
       "      <td>4.1</td>\n",
       "      <td>3.0</td>\n",
       "      <td>37.978076</td>\n",
       "      <td>-100.987305</td>\n",
       "      <td>0.661</td>\n",
       "      <td>siltstone</td>\n",
       "      <td>2416.119814</td>\n",
       "      <td>siliciclastic</td>\n",
       "      <td>True</td>\n",
       "    </tr>\n",
       "    <tr>\n",
       "      <th>2</th>\n",
       "      <td>SHRIMPLIN</td>\n",
       "      <td>851.6112</td>\n",
       "      <td>A1 SH</td>\n",
       "      <td>0.957</td>\n",
       "      <td>1</td>\n",
       "      <td>79.05</td>\n",
       "      <td>4.549881</td>\n",
       "      <td>14.8</td>\n",
       "      <td>13.050</td>\n",
       "      <td>3.6</td>\n",
       "      <td>3.0</td>\n",
       "      <td>37.978076</td>\n",
       "      <td>-100.987305</td>\n",
       "      <td>0.658</td>\n",
       "      <td>siltstone</td>\n",
       "      <td>2404.576056</td>\n",
       "      <td>siliciclastic</td>\n",
       "      <td>True</td>\n",
       "    </tr>\n",
       "    <tr>\n",
       "      <th>3</th>\n",
       "      <td>SHRIMPLIN</td>\n",
       "      <td>851.7636</td>\n",
       "      <td>A1 SH</td>\n",
       "      <td>0.936</td>\n",
       "      <td>1</td>\n",
       "      <td>86.10</td>\n",
       "      <td>4.518559</td>\n",
       "      <td>13.9</td>\n",
       "      <td>13.115</td>\n",
       "      <td>3.5</td>\n",
       "      <td>3.0</td>\n",
       "      <td>37.978076</td>\n",
       "      <td>-100.987305</td>\n",
       "      <td>0.655</td>\n",
       "      <td>siltstone</td>\n",
       "      <td>2393.249071</td>\n",
       "      <td>siliciclastic</td>\n",
       "      <td>True</td>\n",
       "    </tr>\n",
       "    <tr>\n",
       "      <th>4</th>\n",
       "      <td>SHRIMPLIN</td>\n",
       "      <td>851.9160</td>\n",
       "      <td>A1 SH</td>\n",
       "      <td>0.915</td>\n",
       "      <td>1</td>\n",
       "      <td>74.58</td>\n",
       "      <td>4.436086</td>\n",
       "      <td>13.5</td>\n",
       "      <td>13.300</td>\n",
       "      <td>3.4</td>\n",
       "      <td>3.0</td>\n",
       "      <td>37.978076</td>\n",
       "      <td>-100.987305</td>\n",
       "      <td>0.647</td>\n",
       "      <td>siltstone</td>\n",
       "      <td>2382.602601</td>\n",
       "      <td>siliciclastic</td>\n",
       "      <td>True</td>\n",
       "    </tr>\n",
       "  </tbody>\n",
       "</table>\n",
       "</div>"
      ],
      "text/plain": [
       "   Well Name     Depth Formation  RelPos  Marine     GR       ILD  DeltaPHI  \\\n",
       "0  SHRIMPLIN  851.3064     A1 SH   1.000       1  77.45  4.613176       9.9   \n",
       "1  SHRIMPLIN  851.4588     A1 SH   0.979       1  78.26  4.581419      14.2   \n",
       "2  SHRIMPLIN  851.6112     A1 SH   0.957       1  79.05  4.549881      14.8   \n",
       "3  SHRIMPLIN  851.7636     A1 SH   0.936       1  86.10  4.518559      13.9   \n",
       "4  SHRIMPLIN  851.9160     A1 SH   0.915       1  74.58  4.436086      13.5   \n",
       "\n",
       "    PHIND   PE  Facies   LATITUDE   LONGITUDE  ILD_log10  Lithology  \\\n",
       "0  11.915  4.6     3.0  37.978076 -100.987305      0.664  siltstone   \n",
       "1  12.565  4.1     3.0  37.978076 -100.987305      0.661  siltstone   \n",
       "2  13.050  3.6     3.0  37.978076 -100.987305      0.658  siltstone   \n",
       "3  13.115  3.5     3.0  37.978076 -100.987305      0.655  siltstone   \n",
       "4  13.300  3.4     3.0  37.978076 -100.987305      0.647  siltstone   \n",
       "\n",
       "          RHOB     Mineralogy  Siliciclastic  \n",
       "0  2393.499945  siliciclastic           True  \n",
       "1  2416.119814  siliciclastic           True  \n",
       "2  2404.576056  siliciclastic           True  \n",
       "3  2393.249071  siliciclastic           True  \n",
       "4  2382.602601  siliciclastic           True  "
      ]
     },
     "execution_count": 2,
     "metadata": {},
     "output_type": "execute_result"
    }
   ],
   "source": [
    "import pandas as pd\n",
    "\n",
    "df = pd.read_csv('https://geocomp.s3.amazonaws.com/data/Panoma_training_data.csv')\n",
    "df.head()"
   ]
  },
  {
   "cell_type": "code",
   "execution_count": 3,
   "metadata": {},
   "outputs": [
    {
     "name": "stdout",
     "output_type": "stream",
     "text": [
      "<class 'pandas.core.frame.DataFrame'>\n",
      "RangeIndex: 3966 entries, 0 to 3965\n",
      "Data columns (total 18 columns):\n",
      " #   Column         Non-Null Count  Dtype  \n",
      "---  ------         --------------  -----  \n",
      " 0   Well Name      3966 non-null   object \n",
      " 1   Depth          3966 non-null   float64\n",
      " 2   Formation      3966 non-null   object \n",
      " 3   RelPos         3966 non-null   float64\n",
      " 4   Marine         3966 non-null   int64  \n",
      " 5   GR             3966 non-null   float64\n",
      " 6   ILD            3966 non-null   float64\n",
      " 7   DeltaPHI       3966 non-null   float64\n",
      " 8   PHIND          3966 non-null   float64\n",
      " 9   PE             3966 non-null   float64\n",
      " 10  Facies         3966 non-null   float64\n",
      " 11  LATITUDE       3966 non-null   float64\n",
      " 12  LONGITUDE      3966 non-null   float64\n",
      " 13  ILD_log10      3966 non-null   float64\n",
      " 14  Lithology      3966 non-null   object \n",
      " 15  RHOB           3966 non-null   float64\n",
      " 16  Mineralogy     3966 non-null   object \n",
      " 17  Siliciclastic  3966 non-null   bool   \n",
      "dtypes: bool(1), float64(12), int64(1), object(4)\n",
      "memory usage: 530.7+ KB\n"
     ]
    }
   ],
   "source": [
    "df.info()"
   ]
  },
  {
   "cell_type": "markdown",
   "metadata": {},
   "source": [
    "## Outliers\n",
    "\n",
    "Currently there is only one way to detect outliers, using the Z-score. The function transforms the features to Z-score and checks how many samples are more than 3 standard deviations away from the mean (ordinary outliers), and how many are more than 4.89 standard deviations away (extreme outliers). The ratio of actual:expected samples is returned, along with the indices of those samples."
   ]
  },
  {
   "cell_type": "code",
   "execution_count": 4,
   "metadata": {},
   "outputs": [
    {
     "data": {
      "text/plain": [
       "array([ 622,  759,  850, 1496, 2926, 2927, 3088, 3089, 3113])"
      ]
     },
     "execution_count": 4,
     "metadata": {},
     "output_type": "execute_result"
    }
   ],
   "source": [
    "rf.has_outliers(df['PHIND'])"
   ]
  },
  {
   "cell_type": "code",
   "execution_count": 5,
   "metadata": {},
   "outputs": [
    {
     "data": {
      "text/plain": [
       "<seaborn.axisgrid.FacetGrid at 0x7f5692c44fd0>"
      ]
     },
     "execution_count": 5,
     "metadata": {},
     "output_type": "execute_result"
    },
    {
     "data": {
      "image/png": "[encoded data removed]",
      "text/plain": [
       "<Figure size 360x360 with 1 Axes>"
      ]
     },
     "metadata": {
      "needs_background": "light"
     },
     "output_type": "display_data"
    }
   ],
   "source": [
    "import seaborn as sns\n",
    "\n",
    "sns.displot(df['PHIND'])"
   ]
  },
  {
   "cell_type": "markdown",
   "metadata": {},
   "source": [
    "## Clipping\n",
    "\n",
    "If a feature has been clipped, it will have multiple instances at its min and/or max value. There are legitimate reasons why this might happen, for example the feature may be naturally bounded (e.g. porosity is always greater than 0), or the feature may have been deliberately clipped as part of the data preparation process."
   ]
  },
  {
   "cell_type": "code",
   "execution_count": null,
   "metadata": {},
   "outputs": [],
   "source": [
    "rf.is_clipped(df['GR'])"
   ]
  },
  {
   "cell_type": "code",
   "execution_count": null,
   "metadata": {},
   "outputs": [],
   "source": [
    "import seaborn as sns\n",
    "\n",
    "sns.displot(df['GR'])"
   ]
  },
  {
   "cell_type": "markdown",
   "metadata": {},
   "source": [
    "## Imbalance metrics\n",
    "\n",
    "For binary targets, the metric is imbalace ratio (ratio between majority and minority class).\n",
    "\n",
    "For multiclass targets, the metric is imbalance degree, a single-value measure that explains (a) how many minority classes there are and (b) how skewed the supports are."
   ]
  },
  {
   "cell_type": "code",
   "execution_count": null,
   "metadata": {},
   "outputs": [],
   "source": [
    "rf.class_imbalance(df['Lithology'])"
   ]
  },
  {
   "cell_type": "code",
   "execution_count": null,
   "metadata": {},
   "outputs": [],
   "source": [
    "rf.minority_classes(df['Lithology'])"
   ]
  },
  {
   "cell_type": "markdown",
   "metadata": {},
   "source": [
    "## Distribution shape\n",
    "\n",
    "Tries to guess the shape of the distribution from the following set from `scipy.stats`:\n",
    "\n",
    "- `'norm'`\n",
    "- `'cosine'`\n",
    "- `'expon'`\n",
    "- `'exponpow'`\n",
    "- `'gamma'`\n",
    "- `'gumbel_l'`\n",
    "- `'gumbel_r'`\n",
    "- `'powerlaw'`\n",
    "- `'triang'`\n",
    "- `'trapz'`\n",
    "- `'uniform'`\n",
    "\n",
    "The name is returned, along with the shape parameters (if any), location and scale."
   ]
  },
  {
   "cell_type": "code",
   "execution_count": null,
   "metadata": {},
   "outputs": [],
   "source": [
    "rf.best_distribution(df['PHIND'])"
   ]
  },
  {
   "cell_type": "code",
   "execution_count": null,
   "metadata": {},
   "outputs": [],
   "source": [
    "sns.displot(df['PHIND'])"
   ]
  },
  {
   "cell_type": "markdown",
   "metadata": {},
   "source": [
    "## Self-correlation\n",
    "\n",
    "If a feature is correlated to lagged (shifted) versions of itself, then the dataset may be ordered by that feature, or the records may not be independent. If several features are correlated to themselves, then the data instances may not be independent."
   ]
  },
  {
   "cell_type": "code",
   "execution_count": null,
   "metadata": {},
   "outputs": [],
   "source": [
    "rf.is_correlated(df['GR'])"
   ]
  },
  {
   "cell_type": "markdown",
   "metadata": {},
   "source": [
    "Shuffling the data removes the correlation, but does not mean the records are independent."
   ]
  },
  {
   "cell_type": "code",
   "execution_count": null,
   "metadata": {},
   "outputs": [],
   "source": [
    "import numpy as np\n",
    "\n",
    "gr = df['GR'].to_numpy(copy=True)\n",
    "np.random.shuffle(gr)\n",
    "rf.is_correlated(gr)"
   ]
  }
 ],
 "metadata": {
  "kernelspec": {
   "display_name": "Python 3 (ipykernel)",
   "language": "python",
   "name": "python3"
  },
  "language_info": {
   "codemirror_mode": {
    "name": "ipython",
    "version": 3
   },
   "file_extension": ".py",
   "mimetype": "text/x-python",
   "name": "python",
   "nbconvert_exporter": "python",
   "pygments_lexer": "ipython3",
   "version": "3.9.7"
  }
 },
 "nbformat": 4,
 "nbformat_minor": 4
}
